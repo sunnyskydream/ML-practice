{
  "nbformat": 4,
  "nbformat_minor": 0,
  "metadata": {
    "colab": {
      "name": "1.5_Supervised Learning_Support Vector Machine (SVM).ipynb",
      "provenance": [],
      "authorship_tag": "ABX9TyP3x5nJYiDJ1BoVV8Bb1f/A",
      "include_colab_link": true
    },
    "kernelspec": {
      "name": "python3",
      "display_name": "Python 3"
    },
    "language_info": {
      "name": "python"
    }
  },
  "cells": [
    {
      "cell_type": "markdown",
      "metadata": {
        "id": "view-in-github",
        "colab_type": "text"
      },
      "source": [
        "<a href=\"https://colab.research.google.com/github/sunnyskydream/ML-practice/blob/main/1_5_Supervised_Learning_Support_Vector_Machine_(SVM).ipynb\" target=\"_parent\"><img src=\"https://colab.research.google.com/assets/colab-badge.svg\" alt=\"Open In Colab\"/></a>"
      ]
    },
    {
      "cell_type": "code",
      "metadata": {
        "colab": {
          "base_uri": "https://localhost:8080/"
        },
        "id": "AUkOSTPDINba",
        "outputId": "55854f6d-47d4-459d-a157-70a4e76be07a"
      },
      "source": [
        "#import package\n",
        "import numpy as np\n",
        "import pandas as pd\n",
        "import scipy as sp\n",
        "import sklearn\n",
        "\n",
        "import matplotlib.pyplot as plt\n",
        "import seaborn as sns\n",
        "sns.set_theme()\n",
        "%matplotlib inline\n",
        "\n",
        "from sklearn.datasets import load_breast_cancer\n",
        "from sklearn.svm import LinearSVC\n",
        "from sklearn.model_selection import train_test_split\n",
        "\n",
        "#import dataset\n",
        "cancer = load_breast_cancer()\n",
        "\n",
        "# split train and test\n",
        "X_train, X_test, y_train, y_test = train_test_split(cancer.data, cancer.target, stratify = cancer.target, random_state = 0)\n",
        "\n",
        "#initialize and train\n",
        "model = LinearSVC()\n",
        "model.fit(X_train, y_train)\n",
        "\n",
        "print('accuracy(train): {:.3f}'.format(model.score(X_train, y_train)))\n",
        "print('accuracy(test): {:.3f}'.format(model.score(X_test, y_test)))"
      ],
      "execution_count": null,
      "outputs": [
        {
          "output_type": "stream",
          "name": "stdout",
          "text": [
            "accuracy(train): 0.782\n",
            "accuracy(test): 0.783\n"
          ]
        },
        {
          "output_type": "stream",
          "name": "stderr",
          "text": [
            "/usr/local/lib/python3.7/dist-packages/sklearn/svm/_base.py:947: ConvergenceWarning: Liblinear failed to converge, increase the number of iterations.\n",
            "  \"the number of iterations.\", ConvergenceWarning)\n"
          ]
        }
      ]
    }
  ]
}