{
  "nbformat": 4,
  "nbformat_minor": 0,
  "metadata": {
    "colab": {
      "name": "2.1_A_Unsupervised Learning_Cluster Analysis (k-means).ipynb",
      "provenance": [],
      "collapsed_sections": [],
      "authorship_tag": "ABX9TyMRkM8+WBRFufmfol/3Rrvt",
      "include_colab_link": true
    },
    "kernelspec": {
      "name": "python3",
      "display_name": "Python 3"
    },
    "language_info": {
      "name": "python"
    }
  },
  "cells": [
    {
      "cell_type": "markdown",
      "metadata": {
        "id": "view-in-github",
        "colab_type": "text"
      },
      "source": [
        "<a href=\"https://colab.research.google.com/github/sunnyskydream/ML-practice/blob/main/2_1_A_Unsupervised_Learning_Cluster_Analysis_(k_means).ipynb\" target=\"_parent\"><img src=\"https://colab.research.google.com/assets/colab-badge.svg\" alt=\"Open In Colab\"/></a>"
      ]
    },
    {
      "cell_type": "code",
      "metadata": {
        "id": "RWOh9KYrDsOC"
      },
      "source": [
        "import numpy as np\n",
        "import pandas as pd\n",
        "import matplotlib.pyplot as plt\n",
        "import seaborn as sns; sns.set() \n",
        "from sklearn.cluster import KMeans\n",
        "from sklearn.preprocessing import StandardScaler"
      ],
      "execution_count": null,
      "outputs": []
    },
    {
      "cell_type": "code",
      "metadata": {
        "colab": {
          "base_uri": "https://localhost:8080/",
          "height": 343
        },
        "id": "XjB94UsYEEu0",
        "outputId": "318bb0bf-1394-4c2a-d332-f4b0e2e53ddf"
      },
      "source": [
        "df = pd.read_csv('sample_data_transformed.csv')\n",
        "df.head()\n",
        "#df.columns\n",
        "#df.shape"
      ],
      "execution_count": null,
      "outputs": [
        {
          "output_type": "stream",
          "name": "stderr",
          "text": [
            "/usr/local/lib/python3.7/dist-packages/IPython/core/interactiveshell.py:2718: DtypeWarning: Columns (13) have mixed types.Specify dtype option on import or set low_memory=False.\n",
            "  interactivity=interactivity, compiler=compiler, result=result)\n"
          ]
        },
        {
          "output_type": "execute_result",
          "data": {
            "text/html": [
              "<div>\n",
              "<style scoped>\n",
              "    .dataframe tbody tr th:only-of-type {\n",
              "        vertical-align: middle;\n",
              "    }\n",
              "\n",
              "    .dataframe tbody tr th {\n",
              "        vertical-align: top;\n",
              "    }\n",
              "\n",
              "    .dataframe thead th {\n",
              "        text-align: right;\n",
              "    }\n",
              "</style>\n",
              "<table border=\"1\" class=\"dataframe\">\n",
              "  <thead>\n",
              "    <tr style=\"text-align: right;\">\n",
              "      <th></th>\n",
              "      <th>Unnamed: 0</th>\n",
              "      <th>PNRLocatorID</th>\n",
              "      <th>PaxName</th>\n",
              "      <th>TicketNum</th>\n",
              "      <th>CouponSeqNbr</th>\n",
              "      <th>ServiceStartCity</th>\n",
              "      <th>ServiceEndCity</th>\n",
              "      <th>PNRCreateDate</th>\n",
              "      <th>ServiceStartDate</th>\n",
              "      <th>EncryptedName</th>\n",
              "      <th>GenderCode</th>\n",
              "      <th>birthdateid</th>\n",
              "      <th>Age</th>\n",
              "      <th>PostalCode</th>\n",
              "      <th>BkdClassOfService</th>\n",
              "      <th>TrvldClassOfService</th>\n",
              "      <th>BookingChannel</th>\n",
              "      <th>BaseFareAmt</th>\n",
              "      <th>TotalDocAmt</th>\n",
              "      <th>UFlyRewardsNumber</th>\n",
              "      <th>UflyMemberStatus</th>\n",
              "      <th>CardHolder</th>\n",
              "      <th>BookedProduct</th>\n",
              "      <th>EnrollDate</th>\n",
              "      <th>MarketingFlightNbr</th>\n",
              "      <th>MarketingAirlineCode</th>\n",
              "      <th>StopoverCode</th>\n",
              "      <th>uid</th>\n",
              "      <th>age_group</th>\n",
              "      <th>true_origins</th>\n",
              "      <th>final_destination</th>\n",
              "      <th>round_trip</th>\n",
              "      <th>group_size</th>\n",
              "      <th>group</th>\n",
              "      <th>seasonality</th>\n",
              "      <th>days_pre_booked</th>\n",
              "      <th>true_destination</th>\n",
              "    </tr>\n",
              "  </thead>\n",
              "  <tbody>\n",
              "    <tr>\n",
              "      <th>0</th>\n",
              "      <td>1</td>\n",
              "      <td>AADMLF</td>\n",
              "      <td>PETEJO</td>\n",
              "      <td>3.377490e+12</td>\n",
              "      <td>1</td>\n",
              "      <td>MSP</td>\n",
              "      <td>DFW</td>\n",
              "      <td>9/15/14</td>\n",
              "      <td>10/6/14</td>\n",
              "      <td>504554455244696420493F7C2067657420746869732072...</td>\n",
              "      <td>M</td>\n",
              "      <td>39209</td>\n",
              "      <td>57</td>\n",
              "      <td>55439</td>\n",
              "      <td>Coach</td>\n",
              "      <td>Coach</td>\n",
              "      <td>Outside Booking</td>\n",
              "      <td>88.43</td>\n",
              "      <td>109.16</td>\n",
              "      <td>201370982</td>\n",
              "      <td>Standard</td>\n",
              "      <td>False</td>\n",
              "      <td>CWT971</td>\n",
              "      <td>03:15.0</td>\n",
              "      <td>501</td>\n",
              "      <td>SY</td>\n",
              "      <td>NaN</td>\n",
              "      <td>504554455244696420493F7C2067657420746869732072...</td>\n",
              "      <td>55+</td>\n",
              "      <td>MSP</td>\n",
              "      <td>DFW</td>\n",
              "      <td>0</td>\n",
              "      <td>1</td>\n",
              "      <td>0</td>\n",
              "      <td>Q4</td>\n",
              "      <td>21</td>\n",
              "      <td>DFW</td>\n",
              "    </tr>\n",
              "    <tr>\n",
              "      <th>1</th>\n",
              "      <td>2</td>\n",
              "      <td>AAFBOM</td>\n",
              "      <td>FIXSMO</td>\n",
              "      <td>3.372110e+12</td>\n",
              "      <td>2</td>\n",
              "      <td>JFK</td>\n",
              "      <td>MSP</td>\n",
              "      <td>7/22/14</td>\n",
              "      <td>8/19/14</td>\n",
              "      <td>46495853454E44696420493F7C20676574207468697320...</td>\n",
              "      <td>F</td>\n",
              "      <td>42171</td>\n",
              "      <td>48</td>\n",
              "      <td>56044</td>\n",
              "      <td>Coach</td>\n",
              "      <td>Coach</td>\n",
              "      <td>SCA Website Booking</td>\n",
              "      <td>399.07</td>\n",
              "      <td>457.20</td>\n",
              "      <td>211034132</td>\n",
              "      <td>Standard</td>\n",
              "      <td>False</td>\n",
              "      <td>SSWMIR</td>\n",
              "      <td>31:24.0</td>\n",
              "      <td>248</td>\n",
              "      <td>SY</td>\n",
              "      <td>O</td>\n",
              "      <td>46495853454E44696420493F7C20676574207468697320...</td>\n",
              "      <td>35-54</td>\n",
              "      <td>MSP</td>\n",
              "      <td>MSP</td>\n",
              "      <td>1</td>\n",
              "      <td>1</td>\n",
              "      <td>0</td>\n",
              "      <td>Q3</td>\n",
              "      <td>28</td>\n",
              "      <td>JFK</td>\n",
              "    </tr>\n",
              "    <tr>\n",
              "      <th>2</th>\n",
              "      <td>3</td>\n",
              "      <td>AAFBOM</td>\n",
              "      <td>FIXSMO</td>\n",
              "      <td>3.372110e+12</td>\n",
              "      <td>1</td>\n",
              "      <td>MSP</td>\n",
              "      <td>JFK</td>\n",
              "      <td>7/22/14</td>\n",
              "      <td>8/14/14</td>\n",
              "      <td>46495853454E44696420493F7C20676574207468697320...</td>\n",
              "      <td>F</td>\n",
              "      <td>42171</td>\n",
              "      <td>48</td>\n",
              "      <td>56044</td>\n",
              "      <td>Coach</td>\n",
              "      <td>Coach</td>\n",
              "      <td>SCA Website Booking</td>\n",
              "      <td>399.07</td>\n",
              "      <td>457.20</td>\n",
              "      <td>211034132</td>\n",
              "      <td>Standard</td>\n",
              "      <td>False</td>\n",
              "      <td>SSWMIR</td>\n",
              "      <td>31:24.0</td>\n",
              "      <td>247</td>\n",
              "      <td>SY</td>\n",
              "      <td>NaN</td>\n",
              "      <td>46495853454E44696420493F7C20676574207468697320...</td>\n",
              "      <td>35-54</td>\n",
              "      <td>MSP</td>\n",
              "      <td>MSP</td>\n",
              "      <td>1</td>\n",
              "      <td>1</td>\n",
              "      <td>0</td>\n",
              "      <td>Q3</td>\n",
              "      <td>23</td>\n",
              "      <td>JFK</td>\n",
              "    </tr>\n",
              "    <tr>\n",
              "      <th>3</th>\n",
              "      <td>4</td>\n",
              "      <td>AAFILI</td>\n",
              "      <td>SCUTKA</td>\n",
              "      <td>3.372110e+12</td>\n",
              "      <td>2</td>\n",
              "      <td>MSP</td>\n",
              "      <td>SEA</td>\n",
              "      <td>2/6/14</td>\n",
              "      <td>3/27/14</td>\n",
              "      <td>534355545444696420493F7C2067657420746869732072...</td>\n",
              "      <td>F</td>\n",
              "      <td>50355</td>\n",
              "      <td>26</td>\n",
              "      <td>NaN</td>\n",
              "      <td>Coach</td>\n",
              "      <td>Coach</td>\n",
              "      <td>SCA Website Booking</td>\n",
              "      <td>118.14</td>\n",
              "      <td>149.00</td>\n",
              "      <td>0</td>\n",
              "      <td>non-ufly</td>\n",
              "      <td>NaN</td>\n",
              "      <td>NaN</td>\n",
              "      <td>NaN</td>\n",
              "      <td>281</td>\n",
              "      <td>SY</td>\n",
              "      <td>X</td>\n",
              "      <td>534355545444696420493F7C2067657420746869732072...</td>\n",
              "      <td>25-34</td>\n",
              "      <td>LAN</td>\n",
              "      <td>SEA</td>\n",
              "      <td>0</td>\n",
              "      <td>2</td>\n",
              "      <td>1</td>\n",
              "      <td>Q1</td>\n",
              "      <td>49</td>\n",
              "      <td>MSP</td>\n",
              "    </tr>\n",
              "    <tr>\n",
              "      <th>4</th>\n",
              "      <td>5</td>\n",
              "      <td>AAFILI</td>\n",
              "      <td>SCUTKA</td>\n",
              "      <td>3.372110e+12</td>\n",
              "      <td>1</td>\n",
              "      <td>LAN</td>\n",
              "      <td>MSP</td>\n",
              "      <td>2/6/14</td>\n",
              "      <td>3/27/14</td>\n",
              "      <td>534355545444696420493F7C2067657420746869732072...</td>\n",
              "      <td>F</td>\n",
              "      <td>50355</td>\n",
              "      <td>26</td>\n",
              "      <td>NaN</td>\n",
              "      <td>Coach</td>\n",
              "      <td>Coach</td>\n",
              "      <td>SCA Website Booking</td>\n",
              "      <td>118.14</td>\n",
              "      <td>149.00</td>\n",
              "      <td>0</td>\n",
              "      <td>non-ufly</td>\n",
              "      <td>NaN</td>\n",
              "      <td>NaN</td>\n",
              "      <td>NaN</td>\n",
              "      <td>260</td>\n",
              "      <td>SY</td>\n",
              "      <td>NaN</td>\n",
              "      <td>534355545444696420493F7C2067657420746869732072...</td>\n",
              "      <td>25-34</td>\n",
              "      <td>LAN</td>\n",
              "      <td>SEA</td>\n",
              "      <td>0</td>\n",
              "      <td>2</td>\n",
              "      <td>1</td>\n",
              "      <td>Q1</td>\n",
              "      <td>49</td>\n",
              "      <td>MSP</td>\n",
              "    </tr>\n",
              "  </tbody>\n",
              "</table>\n",
              "</div>"
            ],
            "text/plain": [
              "   Unnamed: 0 PNRLocatorID  ... days_pre_booked  true_destination\n",
              "0           1       AADMLF  ...              21               DFW\n",
              "1           2       AAFBOM  ...              28               JFK\n",
              "2           3       AAFBOM  ...              23               JFK\n",
              "3           4       AAFILI  ...              49               MSP\n",
              "4           5       AAFILI  ...              49               MSP\n",
              "\n",
              "[5 rows x 37 columns]"
            ]
          },
          "metadata": {},
          "execution_count": 14
        }
      ]
    },
    {
      "cell_type": "code",
      "metadata": {
        "colab": {
          "base_uri": "https://localhost:8080/"
        },
        "id": "AeogzboyHTOJ",
        "outputId": "b2d2d4a5-c601-4077-be8a-da4ef9e31cf6"
      },
      "source": [
        "#use group_size & days_pre_booked\n",
        "y = df.iloc[:,[33,35]].values\n",
        "print(y)"
      ],
      "execution_count": null,
      "outputs": [
        {
          "output_type": "stream",
          "name": "stdout",
          "text": [
            "[[ 0 21]\n",
            " [ 0 28]\n",
            " [ 0 23]\n",
            " ...\n",
            " [ 1 73]\n",
            " [ 0 16]\n",
            " [ 0 20]]\n"
          ]
        }
      ]
    },
    {
      "cell_type": "code",
      "metadata": {
        "colab": {
          "base_uri": "https://localhost:8080/"
        },
        "id": "qBPor487KrLP",
        "outputId": "3b98645c-e11c-464d-aef6-225e81addba5"
      },
      "source": [
        "#normalization\n",
        "sc = StandardScaler()\n",
        "sc.fit(y)\n",
        "y_std = sc.transform(y)\n",
        "y_std"
      ],
      "execution_count": null,
      "outputs": [
        {
          "output_type": "execute_result",
          "data": {
            "text/plain": [
              "array([[-1.21310889, -0.68760278],\n",
              "       [-1.21310889, -0.55358509],\n",
              "       [-1.21310889, -0.64931201],\n",
              "       ...,\n",
              "       [ 0.82432831,  0.3079572 ],\n",
              "       [-1.21310889, -0.7833297 ],\n",
              "       [-1.21310889, -0.70674816]])"
            ]
          },
          "metadata": {},
          "execution_count": 31
        }
      ]
    },
    {
      "cell_type": "code",
      "metadata": {
        "colab": {
          "base_uri": "https://localhost:8080/"
        },
        "id": "o7YQDdghHfdG",
        "outputId": "b190d88a-0e8a-44e3-86f4-e2bc2d29cdf1"
      },
      "source": [
        "kmeans3 = KMeans(n_clusters = 3)\n",
        "y_std_kmeans3 = kmeans3.fit_predict(y_std)\n",
        "\n",
        "print(y_std_kmeans3)\n",
        "print(kmeans3.inertia_)\n",
        "\n",
        "kmeans3.cluster_centers_"
      ],
      "execution_count": null,
      "outputs": [
        {
          "output_type": "stream",
          "name": "stdout",
          "text": [
            "[0 0 0 ... 1 0 0]\n",
            "11552.916453523618\n"
          ]
        },
        {
          "output_type": "execute_result",
          "data": {
            "text/plain": [
              "array([[-1.21310889, -0.41597881],\n",
              "       [ 0.82432831, -0.26916797],\n",
              "       [ 0.58226651,  1.86563263]])"
            ]
          },
          "metadata": {},
          "execution_count": 38
        }
      ]
    },
    {
      "cell_type": "code",
      "metadata": {
        "colab": {
          "base_uri": "https://localhost:8080/",
          "height": 301
        },
        "id": "4MDRatERIS8D",
        "outputId": "d413ec13-1d24-4752-c76d-3b3dff55d5e4"
      },
      "source": [
        "Error = []\n",
        "\n",
        "for i in range(1,11):\n",
        "  kmeans = KMeans(n_clusters = i).fit(y_std)\n",
        "  kmeans.fit(y_std)\n",
        "  Error.append(kmeans.inertia_)\n",
        "\n",
        "plt.plot(range(1,11), Error)\n",
        "plt.title('Elbow method')\n",
        "plt.xlabel('No. of lcusters')\n",
        "plt.ylabel('Error')\n",
        "plt.show()"
      ],
      "execution_count": null,
      "outputs": [
        {
          "output_type": "display_data",
          "data": {
            "image/png": "[encoded data removed]",
            "text/plain": [
              "<Figure size 432x288 with 1 Axes>"
            ]
          },
          "metadata": {}
        }
      ]
    },
    {
      "cell_type": "code",
      "metadata": {
        "colab": {
          "base_uri": "https://localhost:8080/",
          "height": 285
        },
        "id": "HJOC6sA9JffX",
        "outputId": "1df161b0-ea13-4765-ec8b-1c13605e9afc"
      },
      "source": [
        "plt.scatter(y_std[:,0],y_std[:,1], c=y_std_kmeans3, s = 50, cmap = \"viridis\")\n",
        "\n",
        "plt.scatter(kmeans3.cluster_centers_[:, 0], kmeans3.cluster_centers_[:, 1], c='red', marker='x')"
      ],
      "execution_count": null,
      "outputs": [
        {
          "output_type": "execute_result",
          "data": {
            "text/plain": [
              "<matplotlib.collections.PathCollection at 0x7f888a77fb10>"
            ]
          },
          "metadata": {},
          "execution_count": 46
        },
        {
          "output_type": "display_data",
          "data": {
            "image/png": "[encoded data removed]",
            "text/plain": [
              "<Figure size 432x288 with 1 Axes>"
            ]
          },
          "metadata": {}
        }
      ]
    },
    {
      "cell_type": "code",
      "metadata": {
        "colab": {
          "base_uri": "https://localhost:8080/",
          "height": 268
        },
        "id": "GTD3S9qgLXy9",
        "outputId": "df6c479e-8000-4e6a-af16-79dd4113223e"
      },
      "source": [
        "centers = kmeans3.cluster_centers_\n",
        "plt.scatter(centers[:, 0], centers[:, 1], c='blue', s=200, alpha=0.5);"
      ],
      "execution_count": null,
      "outputs": [
        {
          "output_type": "display_data",
          "data": {
            "image/png": "[encoded data removed]",
            "text/plain": [
              "<Figure size 432x288 with 1 Axes>"
            ]
          },
          "metadata": {}
        }
      ]
    },
    {
      "cell_type": "code",
      "metadata": {
        "colab": {
          "base_uri": "https://localhost:8080/"
        },
        "id": "WTlVRgwjOnNX",
        "outputId": "f528b31e-8d35-4c93-8cfd-d170a90dbfde"
      },
      "source": [
        "y_pred = kmeans.predict(y_std)\n",
        "y_pred"
      ],
      "execution_count": null,
      "outputs": [
        {
          "output_type": "execute_result",
          "data": {
            "text/plain": [
              "array([1, 1, 1, ..., 3, 1, 1], dtype=int32)"
            ]
          },
          "metadata": {},
          "execution_count": 50
        }
      ]
    }
  ]
}