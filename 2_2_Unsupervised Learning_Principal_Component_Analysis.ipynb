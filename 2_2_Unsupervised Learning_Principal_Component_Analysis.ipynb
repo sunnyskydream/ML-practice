{
  "nbformat": 4,
  "nbformat_minor": 0,
  "metadata": {
    "colab": {
      "name": "2.2_Principal Component Analysis.ipynb",
      "provenance": [],
      "authorship_tag": "ABX9TyO96n+i7nKE2Dz7I72UFBm5",
      "include_colab_link": true
    },
    "kernelspec": {
      "name": "python3",
      "display_name": "Python 3"
    },
    "language_info": {
      "name": "python"
    }
  },
  "cells": [
    {
      "cell_type": "markdown",
      "metadata": {
        "id": "view-in-github",
        "colab_type": "text"
      },
      "source": [
        "<a href=\"https://colab.research.google.com/github/sunnyskydream/ML-practice/blob/main/2_2_Principal_Component_Analysis.ipynb\" target=\"_parent\"><img src=\"https://colab.research.google.com/assets/colab-badge.svg\" alt=\"Open In Colab\"/></a>"
      ]
    },
    {
      "cell_type": "code",
      "metadata": {
        "colab": {
          "base_uri": "https://localhost:8080/",
          "height": 282
        },
        "id": "KgpjHwFKPmfg",
        "outputId": "b3549482-f72d-42a0-f48a-1df9bb29f24c"
      },
      "source": [
        "import numpy as np\n",
        "import pandas as pd\n",
        "import matplotlib.pyplot as plt\n",
        "\n",
        "\n",
        "from sklearn.preprocessing import StandardScaler\n",
        "\n",
        "sample = np.random.RandomState(1)\n",
        "\n",
        "X = np.dot(sample.rand(2,2), sample.randn(2,200)).T\n",
        "\n",
        "#Standardized\n",
        "sc = StandardScaler()\n",
        "X_std= sc.fit_transform(X)\n",
        "X_std\n",
        "\n",
        "#print('coeff{:.3f}:'.format(sp.stats.pearsonr(X_std[:,0], X_std[:,1][0])))\n",
        "plt.scatter(X_std[:,0], X_std[:,1])\n",
        "#plt.scatter(*zip(*X_std))"
      ],
      "execution_count": 4,
      "outputs": [
        {
          "output_type": "execute_result",
          "data": {
            "text/plain": [
              "<matplotlib.collections.PathCollection at 0x7f9289662810>"
            ]
          },
          "metadata": {},
          "execution_count": 4
        },
        {
          "output_type": "display_data",
          "data": {
            "image/png": "[encoded data removed]",
            "text/plain": [
              "<Figure size 432x288 with 1 Axes>"
            ]
          },
          "metadata": {
            "needs_background": "light"
          }
        }
      ]
    },
    {
      "cell_type": "code",
      "metadata": {
        "colab": {
          "base_uri": "https://localhost:8080/"
        },
        "id": "NweJBQlOP6vR",
        "outputId": "5ea57b5a-74a1-4f81-bd8a-bc0022d4bd38"
      },
      "source": [
        "from sklearn.decomposition import PCA\n",
        "\n",
        "pca= PCA(n_components=2)\n",
        "pca.fit(X_std)"
      ],
      "execution_count": 5,
      "outputs": [
        {
          "output_type": "execute_result",
          "data": {
            "text/plain": [
              "PCA(copy=True, iterated_power='auto', n_components=2, random_state=None,\n",
              "    svd_solver='auto', tol=0.0, whiten=False)"
            ]
          },
          "metadata": {},
          "execution_count": 5
        }
      ]
    },
    {
      "cell_type": "code",
      "metadata": {
        "colab": {
          "base_uri": "https://localhost:8080/"
        },
        "id": "AA4hbqu4QDAl",
        "outputId": "6458b09b-e449-4795-a818-7c90634c792c"
      },
      "source": [
        "print(pca.components_)"
      ],
      "execution_count": 6,
      "outputs": [
        {
          "output_type": "stream",
          "name": "stdout",
          "text": [
            "[[-0.70710678 -0.70710678]\n",
            " [-0.70710678  0.70710678]]\n"
          ]
        }
      ]
    }
  ]
}
