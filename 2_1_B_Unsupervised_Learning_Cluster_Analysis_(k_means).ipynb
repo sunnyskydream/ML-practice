{
  "nbformat": 4,
  "nbformat_minor": 0,
  "metadata": {
    "colab": {
      "name": "2.1_B_Unsupervised Learning_Cluster Analysis (k-means).ipynb",
      "provenance": [],
      "collapsed_sections": [],
      "authorship_tag": "ABX9TyMkVNNW077zZJqnjbtq67A7",
      "include_colab_link": true
    },
    "kernelspec": {
      "name": "python3",
      "display_name": "Python 3"
    },
    "language_info": {
      "name": "python"
    }
  },
  "cells": [
    {
      "cell_type": "markdown",
      "metadata": {
        "id": "view-in-github",
        "colab_type": "text"
      },
      "source": [
        "<a href=\"https://colab.research.google.com/github/sunnyskydream/ML-practice/blob/main/2_1_B_Unsupervised_Learning_Cluster_Analysis_(k_means).ipynb\" target=\"_parent\"><img src=\"https://colab.research.google.com/assets/colab-badge.svg\" alt=\"Open In Colab\"/></a>"
      ]
    },
    {
      "cell_type": "markdown",
      "metadata": {
        "id": "mv5EcuDdV1ZH"
      },
      "source": [
        "1. Similarity Measures: Euclidean Distance \n",
        "Good cluster: Inter-cluster distance is maximized and intra-cluster distance is maximized\n",
        "\n",
        "minCostFunction:Compute ratio \n",
        "= [sum of squared distances for a given k] / [sum of squared distances to the mean of all the records (k = 1)] \n",
        "\n",
        "2. \n",
        "*   Strength <br/>\n",
        "    Relatively efficient<br/>\n",
        "    Simple implementation<br/>\n",
        "\n",
        "\n",
        "*   Weakness<br/>\n",
        "    Need to specify k, the number of clusters, in advance <br/>\n",
        "    Unable to handle noisy data and outliers well<br/>\n",
        "    Euclidian Distance(only numerical) does not work for nominal variables.<br/>\n",
        "\n",
        "3. \n",
        "kmeans.cluster_centers_<br/>\n",
        "kmeans.cluster_inertia_<br/>\n",
        "kmeans.labels_<br/>\n",
        "kmeans.predict(X)"
      ]
    },
    {
      "cell_type": "code",
      "metadata": {
        "colab": {
          "base_uri": "https://localhost:8080/",
          "height": 35
        },
        "id": "UWtap6N_TmOa",
        "outputId": "61379de0-ef00-4cf5-e4ad-b2f3f460ab2d"
      },
      "source": [
        "import numpy as np\n",
        "import pandas as pd\n",
        "import sklearn\n",
        "import scipy as sp\n",
        "\n",
        "import matplotlib.pyplot as plt\n",
        "import seaborn as sns\n",
        "%matplotlib inline\n",
        "\n",
        "%precision 3"
      ],
      "execution_count": 2,
      "outputs": [
        {
          "output_type": "execute_result",
          "data": {
            "application/vnd.google.colaboratory.intrinsic+json": {
              "type": "string"
            },
            "text/plain": [
              "'%.3f'"
            ]
          },
          "metadata": {},
          "execution_count": 2
        }
      ]
    },
    {
      "cell_type": "markdown",
      "metadata": {
        "id": "aoNvXhRDbFY7"
      },
      "source": [
        "##Random sample "
      ]
    },
    {
      "cell_type": "code",
      "metadata": {
        "colab": {
          "base_uri": "https://localhost:8080/",
          "height": 282
        },
        "id": "hFNR3V-rUJG-",
        "outputId": "c12dec14-81b7-4f5a-964c-22d4baee9f18"
      },
      "source": [
        "from sklearn.cluster import KMeans\n",
        "\n",
        "#data generation; make_blobs with 2 vars, -10~10\n",
        "from sklearn.datasets import make_blobs\n",
        "X, _ = make_blobs(random_state = 10)\n",
        "\n",
        "#plt.scatter(X[:,0], X[:,1], color = 'black')\n",
        "X.shape\n",
        "\n",
        "plt.scatter(*zip(*X), color = 'black')"
      ],
      "execution_count": 53,
      "outputs": [
        {
          "output_type": "execute_result",
          "data": {
            "text/plain": [
              "<matplotlib.collections.PathCollection at 0x7f2d5690c310>"
            ]
          },
          "metadata": {},
          "execution_count": 53
        },
        {
          "output_type": "display_data",
          "data": {
            "image/png": "[encoded data removed]",
            "text/plain": [
              "<Figure size 432x288 with 1 Axes>"
            ]
          },
          "metadata": {
            "needs_background": "light"
          }
        }
      ]
    },
    {
      "cell_type": "code",
      "metadata": {
        "colab": {
          "base_uri": "https://localhost:8080/"
        },
        "id": "0tumFK1JU7je",
        "outputId": "d561776e-49c9-4acb-bb9b-8c46cb37943d"
      },
      "source": [
        "#fit model\n",
        "kmeans = KMeans(init = 'random', n_clusters = 3)\n",
        "kmeans.fit(X)\n",
        "kmeans.cluster_centers_\n",
        "y_pred = kmeans.predict(X)\n",
        "y_pred"
      ],
      "execution_count": 50,
      "outputs": [
        {
          "output_type": "execute_result",
          "data": {
            "text/plain": [
              "array([[ 0.089, -5.464],\n",
              "       [ 5.618, -9.543],\n",
              "       [ 2.841,  4.858]])"
            ]
          },
          "metadata": {},
          "execution_count": 50
        }
      ]
    },
    {
      "cell_type": "code",
      "metadata": {
        "colab": {
          "base_uri": "https://localhost:8080/",
          "height": 279
        },
        "id": "ujRB03BSWltc",
        "outputId": "50c8efad-c19a-4c12-9e62-dfe25146809e"
      },
      "source": [
        "#merge data X and y_pred\n",
        "merge_data = pd.concat([pd.DataFrame(X[:,0]), pd.DataFrame(X[:,1]), pd.DataFrame(y_pred)], axis = 1)\n",
        "merge_data.columns = ['feature1','feature2', 'cluster']\n",
        "\n",
        "#plot in the same ax\n",
        "#https://towardsdatascience.com/clearing-the-confusion-once-and-for-all-fig-ax-plt-subplots-b122bb7783ca\n",
        "ax = None\n",
        "colors = ['blue', 'red','green']\n",
        "\n",
        "for i, data in merge_data.groupby('cluster'):\n",
        "  ax = data.plot.scatter(x = 'feature1', y ='feature2', color = colors[i], label = f'cluster{i}', ax = ax)"
      ],
      "execution_count": 25,
      "outputs": [
        {
          "output_type": "display_data",
          "data": {
            "image/png": "[encoded data removed]",
            "text/plain": [
              "<Figure size 432x288 with 1 Axes>"
            ]
          },
          "metadata": {
            "needs_background": "light"
          }
        }
      ]
    },
    {
      "cell_type": "markdown",
      "metadata": {
        "id": "wLYFa_PVbMBH"
      },
      "source": [
        "## Bank Marketing Data Cluster Analysis\n",
        "https://archive.ics.uci.edu/ml/datasets/Bank+Marketing\n",
        "\n",
        "Output variable (desired target):<br/>\n",
        "21 - y - has the client subscribed a term deposit? (binary: 'yes','no')"
      ]
    },
    {
      "cell_type": "code",
      "metadata": {
        "colab": {
          "base_uri": "https://localhost:8080/",
          "height": 204
        },
        "id": "ZfEQII9Va108",
        "outputId": "14852197-de9c-4a3a-d1df-1e35d10d06f5"
      },
      "source": [
        "#load data\n",
        "import requests, zipfile\n",
        "import io\n",
        "\n",
        "zip_file_url = \"http://archive.ics.uci.edu/ml/machine-learning-databases/00222/bank.zip\"\n",
        "\n",
        "r = requests.get(zip_file_url, stream = True)\n",
        "z = zipfile.ZipFile(io.BytesIO(r.content))\n",
        "z.extractall()\n",
        "\n",
        "bank = pd.read_csv(\"bank-full.csv\", sep = ';')\n",
        "bank.head()\n",
        "#bank.info()"
      ],
      "execution_count": 30,
      "outputs": [
        {
          "output_type": "execute_result",
          "data": {
            "text/html": [
              "<div>\n",
              "<style scoped>\n",
              "    .dataframe tbody tr th:only-of-type {\n",
              "        vertical-align: middle;\n",
              "    }\n",
              "\n",
              "    .dataframe tbody tr th {\n",
              "        vertical-align: top;\n",
              "    }\n",
              "\n",
              "    .dataframe thead th {\n",
              "        text-align: right;\n",
              "    }\n",
              "</style>\n",
              "<table border=\"1\" class=\"dataframe\">\n",
              "  <thead>\n",
              "    <tr style=\"text-align: right;\">\n",
              "      <th></th>\n",
              "      <th>age</th>\n",
              "      <th>job</th>\n",
              "      <th>marital</th>\n",
              "      <th>education</th>\n",
              "      <th>default</th>\n",
              "      <th>balance</th>\n",
              "      <th>housing</th>\n",
              "      <th>loan</th>\n",
              "      <th>contact</th>\n",
              "      <th>day</th>\n",
              "      <th>month</th>\n",
              "      <th>duration</th>\n",
              "      <th>campaign</th>\n",
              "      <th>pdays</th>\n",
              "      <th>previous</th>\n",
              "      <th>poutcome</th>\n",
              "      <th>y</th>\n",
              "    </tr>\n",
              "  </thead>\n",
              "  <tbody>\n",
              "    <tr>\n",
              "      <th>0</th>\n",
              "      <td>58</td>\n",
              "      <td>management</td>\n",
              "      <td>married</td>\n",
              "      <td>tertiary</td>\n",
              "      <td>no</td>\n",
              "      <td>2143</td>\n",
              "      <td>yes</td>\n",
              "      <td>no</td>\n",
              "      <td>unknown</td>\n",
              "      <td>5</td>\n",
              "      <td>may</td>\n",
              "      <td>261</td>\n",
              "      <td>1</td>\n",
              "      <td>-1</td>\n",
              "      <td>0</td>\n",
              "      <td>unknown</td>\n",
              "      <td>no</td>\n",
              "    </tr>\n",
              "    <tr>\n",
              "      <th>1</th>\n",
              "      <td>44</td>\n",
              "      <td>technician</td>\n",
              "      <td>single</td>\n",
              "      <td>secondary</td>\n",
              "      <td>no</td>\n",
              "      <td>29</td>\n",
              "      <td>yes</td>\n",
              "      <td>no</td>\n",
              "      <td>unknown</td>\n",
              "      <td>5</td>\n",
              "      <td>may</td>\n",
              "      <td>151</td>\n",
              "      <td>1</td>\n",
              "      <td>-1</td>\n",
              "      <td>0</td>\n",
              "      <td>unknown</td>\n",
              "      <td>no</td>\n",
              "    </tr>\n",
              "    <tr>\n",
              "      <th>2</th>\n",
              "      <td>33</td>\n",
              "      <td>entrepreneur</td>\n",
              "      <td>married</td>\n",
              "      <td>secondary</td>\n",
              "      <td>no</td>\n",
              "      <td>2</td>\n",
              "      <td>yes</td>\n",
              "      <td>yes</td>\n",
              "      <td>unknown</td>\n",
              "      <td>5</td>\n",
              "      <td>may</td>\n",
              "      <td>76</td>\n",
              "      <td>1</td>\n",
              "      <td>-1</td>\n",
              "      <td>0</td>\n",
              "      <td>unknown</td>\n",
              "      <td>no</td>\n",
              "    </tr>\n",
              "    <tr>\n",
              "      <th>3</th>\n",
              "      <td>47</td>\n",
              "      <td>blue-collar</td>\n",
              "      <td>married</td>\n",
              "      <td>unknown</td>\n",
              "      <td>no</td>\n",
              "      <td>1506</td>\n",
              "      <td>yes</td>\n",
              "      <td>no</td>\n",
              "      <td>unknown</td>\n",
              "      <td>5</td>\n",
              "      <td>may</td>\n",
              "      <td>92</td>\n",
              "      <td>1</td>\n",
              "      <td>-1</td>\n",
              "      <td>0</td>\n",
              "      <td>unknown</td>\n",
              "      <td>no</td>\n",
              "    </tr>\n",
              "    <tr>\n",
              "      <th>4</th>\n",
              "      <td>33</td>\n",
              "      <td>unknown</td>\n",
              "      <td>single</td>\n",
              "      <td>unknown</td>\n",
              "      <td>no</td>\n",
              "      <td>1</td>\n",
              "      <td>no</td>\n",
              "      <td>no</td>\n",
              "      <td>unknown</td>\n",
              "      <td>5</td>\n",
              "      <td>may</td>\n",
              "      <td>198</td>\n",
              "      <td>1</td>\n",
              "      <td>-1</td>\n",
              "      <td>0</td>\n",
              "      <td>unknown</td>\n",
              "      <td>no</td>\n",
              "    </tr>\n",
              "  </tbody>\n",
              "</table>\n",
              "</div>"
            ],
            "text/plain": [
              "   age           job  marital  education  ... pdays  previous poutcome   y\n",
              "0   58    management  married   tertiary  ...    -1         0  unknown  no\n",
              "1   44    technician   single  secondary  ...    -1         0  unknown  no\n",
              "2   33  entrepreneur  married  secondary  ...    -1         0  unknown  no\n",
              "3   47   blue-collar  married    unknown  ...    -1         0  unknown  no\n",
              "4   33       unknown   single    unknown  ...    -1         0  unknown  no\n",
              "\n",
              "[5 rows x 17 columns]"
            ]
          },
          "metadata": {},
          "execution_count": 30
        }
      ]
    },
    {
      "cell_type": "code",
      "metadata": {
        "colab": {
          "base_uri": "https://localhost:8080/"
        },
        "id": "pdvSWshmax9A",
        "outputId": "ce3516e7-206e-4bb7-828d-7c75a34ce912"
      },
      "source": [
        "#data cleaning check and normalization\n",
        "print('bank.shape: {}'.format(bank.shape))\n",
        "print('bank is null.sum: {}'.format(bank.isnull().sum().sum()))"
      ],
      "execution_count": 33,
      "outputs": [
        {
          "output_type": "stream",
          "name": "stdout",
          "text": [
            "bank.shape: (45211, 17)\n",
            "bank is null.sum: 0\n"
          ]
        }
      ]
    },
    {
      "cell_type": "code",
      "metadata": {
        "colab": {
          "base_uri": "https://localhost:8080/"
        },
        "id": "UtH7DGkieS5a",
        "outputId": "079a7054-bb7c-4c55-c9fb-14b803a6a33d"
      },
      "source": [
        "from sklearn.preprocessing import StandardScaler\n",
        "\n",
        "bank_sub = bank[['age', 'balance','campaign','previous']]\n",
        "\n",
        "sc = StandardScaler()\n",
        "sc.fit(bank_sub)\n",
        "bank_sub_std = sc.transform(bank_sub)\n",
        "bank_sub.info()"
      ],
      "execution_count": 47,
      "outputs": [
        {
          "output_type": "stream",
          "name": "stdout",
          "text": [
            "<class 'pandas.core.frame.DataFrame'>\n",
            "RangeIndex: 45211 entries, 0 to 45210\n",
            "Data columns (total 4 columns):\n",
            " #   Column    Non-Null Count  Dtype\n",
            "---  ------    --------------  -----\n",
            " 0   age       45211 non-null  int64\n",
            " 1   balance   45211 non-null  int64\n",
            " 2   campaign  45211 non-null  int64\n",
            " 3   previous  45211 non-null  int64\n",
            "dtypes: int64(4)\n",
            "memory usage: 1.4 MB\n"
          ]
        }
      ]
    },
    {
      "cell_type": "code",
      "metadata": {
        "colab": {
          "base_uri": "https://localhost:8080/",
          "height": 412
        },
        "id": "y3O2OMF4e4CG",
        "outputId": "aa4f3a4e-aafb-499b-e5eb-85c9adb2ca6d"
      },
      "source": [
        "# fit KMeans model\n",
        "kmeans = KMeans(init = 'random', n_clusters = 6, random_state=0)\n",
        "\n",
        "kmeans.fit(bank_sub_std)\n",
        "\n",
        "labels = pd.Series(kmeans.labels_, name='cluster_number')\n",
        "\n",
        "print(labels.value_counts(sort=False))\n",
        "\n",
        "ax = labels.value_counts(sort=False).plot(kind = 'bar')\n",
        "ax.set_xlabel('cluster number')\n",
        "ax.set_ylabel('count')"
      ],
      "execution_count": 48,
      "outputs": [
        {
          "output_type": "stream",
          "name": "stdout",
          "text": [
            "0    14411\n",
            "1    23608\n",
            "2     3837\n",
            "3     1373\n",
            "4     1282\n",
            "5      700\n",
            "Name: cluster_number, dtype: int64\n"
          ]
        },
        {
          "output_type": "execute_result",
          "data": {
            "text/plain": [
              "Text(0, 0.5, 'count')"
            ]
          },
          "metadata": {},
          "execution_count": 48
        },
        {
          "output_type": "display_data",
          "data": {
            "image/png": "[encoded data removed]",
            "text/plain": [
              "<Figure size 432x288 with 1 Axes>"
            ]
          },
          "metadata": {
            "needs_background": "light"
          }
        }
      ]
    },
    {
      "cell_type": "code",
      "metadata": {
        "colab": {
          "base_uri": "https://localhost:8080/",
          "height": 296
        },
        "id": "yf2VSuD9hLib",
        "outputId": "d498a333-766b-4c29-85ef-76858dc2a3cc"
      },
      "source": [
        "# distance error\n",
        "dist_list = []\n",
        "\n",
        "for i in range(1,20):\n",
        "  kmeans = KMeans(n_clusters=i, init = 'random', random_state=0)\n",
        "  kmeans.fit(bank_sub_std)\n",
        "  dist_list.append(kmeans.inertia_)\n",
        "\n",
        "plt.plot(range(1,20), dist_list, marker = '+')\n",
        "plt.xlabel('Number of clusters')\n",
        "plt.ylabel('Distortion')\n"
      ],
      "execution_count": 51,
      "outputs": [
        {
          "output_type": "execute_result",
          "data": {
            "text/plain": [
              "Text(0, 0.5, 'Distortion')"
            ]
          },
          "metadata": {},
          "execution_count": 51
        },
        {
          "output_type": "display_data",
          "data": {
            "image/png": "[encoded data removed]",
            "text/plain": [
              "<Figure size 432x288 with 1 Axes>"
            ]
          },
          "metadata": {
            "needs_background": "light"
          }
        }
      ]
    },
    {
      "cell_type": "code",
      "metadata": {
        "colab": {
          "base_uri": "https://localhost:8080/",
          "height": 282
        },
        "id": "b1iyY9uDitxx",
        "outputId": "ed5fac0e-5ba0-414d-ea3b-df979b02f24d"
      },
      "source": [
        "#Silhouette analysis \n",
        "#https://jimmy-huang.medium.com/kmeans%E5%88%86%E7%BE%A4%E6%BC%94%E7%AE%97%E6%B3%95-%E8%88%87-silhouette-%E8%BC%AA%E5%BB%93%E5%88%86%E6%9E%90-8be17e634589\n",
        "\n",
        "from sklearn.metrics import silhouette_score\n",
        "\n",
        "silhouette_avg = []\n",
        "for i in range(2,10):# starting from 2, https://stackoverflow.com/questions/51382250/valueerror-number-of-labels-is-1-valid-values-are-2-to-n-samples-1-inclusiv\n",
        "    kmeans_fit = KMeans(n_clusters = i).fit(bank_sub_std)\n",
        "    silhouette_avg.append(silhouette_score(bank_sub_std, kmeans_fit.labels_))\n",
        "plt.plot(range(2,10), silhouette_avg)"
      ],
      "execution_count": 59,
      "outputs": [
        {
          "output_type": "execute_result",
          "data": {
            "text/plain": [
              "[<matplotlib.lines.Line2D at 0x7f2d4d883190>]"
            ]
          },
          "metadata": {},
          "execution_count": 59
        },
        {
          "output_type": "display_data",
          "data": {
            "image/png": "[encoded data removed]",
            "text/plain": [
              "<Figure size 432x288 with 1 Axes>"
            ]
          },
          "metadata": {
            "needs_background": "light"
          }
        }
      ]
    },
    {
      "cell_type": "code",
      "metadata": {
        "colab": {
          "base_uri": "https://localhost:8080/",
          "height": 204
        },
        "id": "jn7naUirkhiB",
        "outputId": "9cdcff58-5010-48b3-badc-34396e478d5a"
      },
      "source": [
        "# explain\n",
        "bank_with_cluster = pd.concat([bank, labels], axis = 1)\n",
        "bank_with_cluster.head()"
      ],
      "execution_count": 56,
      "outputs": [
        {
          "output_type": "execute_result",
          "data": {
            "text/html": [
              "<div>\n",
              "<style scoped>\n",
              "    .dataframe tbody tr th:only-of-type {\n",
              "        vertical-align: middle;\n",
              "    }\n",
              "\n",
              "    .dataframe tbody tr th {\n",
              "        vertical-align: top;\n",
              "    }\n",
              "\n",
              "    .dataframe thead th {\n",
              "        text-align: right;\n",
              "    }\n",
              "</style>\n",
              "<table border=\"1\" class=\"dataframe\">\n",
              "  <thead>\n",
              "    <tr style=\"text-align: right;\">\n",
              "      <th></th>\n",
              "      <th>age</th>\n",
              "      <th>job</th>\n",
              "      <th>marital</th>\n",
              "      <th>education</th>\n",
              "      <th>default</th>\n",
              "      <th>balance</th>\n",
              "      <th>housing</th>\n",
              "      <th>loan</th>\n",
              "      <th>contact</th>\n",
              "      <th>day</th>\n",
              "      <th>month</th>\n",
              "      <th>duration</th>\n",
              "      <th>campaign</th>\n",
              "      <th>pdays</th>\n",
              "      <th>previous</th>\n",
              "      <th>poutcome</th>\n",
              "      <th>y</th>\n",
              "      <th>cluster_number</th>\n",
              "    </tr>\n",
              "  </thead>\n",
              "  <tbody>\n",
              "    <tr>\n",
              "      <th>0</th>\n",
              "      <td>58</td>\n",
              "      <td>management</td>\n",
              "      <td>married</td>\n",
              "      <td>tertiary</td>\n",
              "      <td>no</td>\n",
              "      <td>2143</td>\n",
              "      <td>yes</td>\n",
              "      <td>no</td>\n",
              "      <td>unknown</td>\n",
              "      <td>5</td>\n",
              "      <td>may</td>\n",
              "      <td>261</td>\n",
              "      <td>1</td>\n",
              "      <td>-1</td>\n",
              "      <td>0</td>\n",
              "      <td>unknown</td>\n",
              "      <td>no</td>\n",
              "      <td>0</td>\n",
              "    </tr>\n",
              "    <tr>\n",
              "      <th>1</th>\n",
              "      <td>44</td>\n",
              "      <td>technician</td>\n",
              "      <td>single</td>\n",
              "      <td>secondary</td>\n",
              "      <td>no</td>\n",
              "      <td>29</td>\n",
              "      <td>yes</td>\n",
              "      <td>no</td>\n",
              "      <td>unknown</td>\n",
              "      <td>5</td>\n",
              "      <td>may</td>\n",
              "      <td>151</td>\n",
              "      <td>1</td>\n",
              "      <td>-1</td>\n",
              "      <td>0</td>\n",
              "      <td>unknown</td>\n",
              "      <td>no</td>\n",
              "      <td>0</td>\n",
              "    </tr>\n",
              "    <tr>\n",
              "      <th>2</th>\n",
              "      <td>33</td>\n",
              "      <td>entrepreneur</td>\n",
              "      <td>married</td>\n",
              "      <td>secondary</td>\n",
              "      <td>no</td>\n",
              "      <td>2</td>\n",
              "      <td>yes</td>\n",
              "      <td>yes</td>\n",
              "      <td>unknown</td>\n",
              "      <td>5</td>\n",
              "      <td>may</td>\n",
              "      <td>76</td>\n",
              "      <td>1</td>\n",
              "      <td>-1</td>\n",
              "      <td>0</td>\n",
              "      <td>unknown</td>\n",
              "      <td>no</td>\n",
              "      <td>1</td>\n",
              "    </tr>\n",
              "    <tr>\n",
              "      <th>3</th>\n",
              "      <td>47</td>\n",
              "      <td>blue-collar</td>\n",
              "      <td>married</td>\n",
              "      <td>unknown</td>\n",
              "      <td>no</td>\n",
              "      <td>1506</td>\n",
              "      <td>yes</td>\n",
              "      <td>no</td>\n",
              "      <td>unknown</td>\n",
              "      <td>5</td>\n",
              "      <td>may</td>\n",
              "      <td>92</td>\n",
              "      <td>1</td>\n",
              "      <td>-1</td>\n",
              "      <td>0</td>\n",
              "      <td>unknown</td>\n",
              "      <td>no</td>\n",
              "      <td>0</td>\n",
              "    </tr>\n",
              "    <tr>\n",
              "      <th>4</th>\n",
              "      <td>33</td>\n",
              "      <td>unknown</td>\n",
              "      <td>single</td>\n",
              "      <td>unknown</td>\n",
              "      <td>no</td>\n",
              "      <td>1</td>\n",
              "      <td>no</td>\n",
              "      <td>no</td>\n",
              "      <td>unknown</td>\n",
              "      <td>5</td>\n",
              "      <td>may</td>\n",
              "      <td>198</td>\n",
              "      <td>1</td>\n",
              "      <td>-1</td>\n",
              "      <td>0</td>\n",
              "      <td>unknown</td>\n",
              "      <td>no</td>\n",
              "      <td>1</td>\n",
              "    </tr>\n",
              "  </tbody>\n",
              "</table>\n",
              "</div>"
            ],
            "text/plain": [
              "   age           job  marital  education  ... previous  poutcome   y cluster_number\n",
              "0   58    management  married   tertiary  ...        0   unknown  no              0\n",
              "1   44    technician   single  secondary  ...        0   unknown  no              0\n",
              "2   33  entrepreneur  married  secondary  ...        0   unknown  no              1\n",
              "3   47   blue-collar  married    unknown  ...        0   unknown  no              0\n",
              "4   33       unknown   single    unknown  ...        0   unknown  no              1\n",
              "\n",
              "[5 rows x 18 columns]"
            ]
          },
          "metadata": {},
          "execution_count": 56
        }
      ]
    },
    {
      "cell_type": "code",
      "metadata": {
        "colab": {
          "base_uri": "https://localhost:8080/",
          "height": 235
        },
        "id": "r8JO2_b5ltK6",
        "outputId": "cd9b15cf-2352-46ba-90c5-c965ad1ea563"
      },
      "source": [
        "bins = [15,20,25,30,35,40,45,50,55,60,65,100]\n",
        "\n",
        "qcut_age = pd.cut(bank_with_cluster.age, bins, right = False)\n",
        "\n",
        "df = pd.concat([bank_with_cluster.cluster_number, qcut_age], axis = 1)# !!!\n",
        "\n",
        "cross_cluster_age = df.groupby(['cluster_number', 'age']).size().unstack().fillna(0)#!!!\n",
        "cross_cluster_age.head()"
      ],
      "execution_count": 68,
      "outputs": [
        {
          "output_type": "execute_result",
          "data": {
            "text/html": [
              "<div>\n",
              "<style scoped>\n",
              "    .dataframe tbody tr th:only-of-type {\n",
              "        vertical-align: middle;\n",
              "    }\n",
              "\n",
              "    .dataframe tbody tr th {\n",
              "        vertical-align: top;\n",
              "    }\n",
              "\n",
              "    .dataframe thead th {\n",
              "        text-align: right;\n",
              "    }\n",
              "</style>\n",
              "<table border=\"1\" class=\"dataframe\">\n",
              "  <thead>\n",
              "    <tr style=\"text-align: right;\">\n",
              "      <th>age</th>\n",
              "      <th>[15, 20)</th>\n",
              "      <th>[20, 25)</th>\n",
              "      <th>[25, 30)</th>\n",
              "      <th>[30, 35)</th>\n",
              "      <th>[35, 40)</th>\n",
              "      <th>[40, 45)</th>\n",
              "      <th>[45, 50)</th>\n",
              "      <th>[50, 55)</th>\n",
              "      <th>[55, 60)</th>\n",
              "      <th>[60, 65)</th>\n",
              "      <th>[65, 100)</th>\n",
              "    </tr>\n",
              "    <tr>\n",
              "      <th>cluster_number</th>\n",
              "      <th></th>\n",
              "      <th></th>\n",
              "      <th></th>\n",
              "      <th></th>\n",
              "      <th></th>\n",
              "      <th></th>\n",
              "      <th></th>\n",
              "      <th></th>\n",
              "      <th></th>\n",
              "      <th></th>\n",
              "      <th></th>\n",
              "    </tr>\n",
              "  </thead>\n",
              "  <tbody>\n",
              "    <tr>\n",
              "      <th>0</th>\n",
              "      <td>0</td>\n",
              "      <td>0</td>\n",
              "      <td>0</td>\n",
              "      <td>0</td>\n",
              "      <td>0</td>\n",
              "      <td>1023</td>\n",
              "      <td>4490</td>\n",
              "      <td>3833</td>\n",
              "      <td>3480</td>\n",
              "      <td>850</td>\n",
              "      <td>735</td>\n",
              "    </tr>\n",
              "    <tr>\n",
              "      <th>1</th>\n",
              "      <td>45</td>\n",
              "      <td>705</td>\n",
              "      <td>3965</td>\n",
              "      <td>8221</td>\n",
              "      <td>6731</td>\n",
              "      <td>3941</td>\n",
              "      <td>0</td>\n",
              "      <td>0</td>\n",
              "      <td>0</td>\n",
              "      <td>0</td>\n",
              "      <td>0</td>\n",
              "    </tr>\n",
              "    <tr>\n",
              "      <th>2</th>\n",
              "      <td>1</td>\n",
              "      <td>20</td>\n",
              "      <td>230</td>\n",
              "      <td>788</td>\n",
              "      <td>956</td>\n",
              "      <td>718</td>\n",
              "      <td>598</td>\n",
              "      <td>328</td>\n",
              "      <td>165</td>\n",
              "      <td>29</td>\n",
              "      <td>4</td>\n",
              "    </tr>\n",
              "    <tr>\n",
              "      <th>3</th>\n",
              "      <td>0</td>\n",
              "      <td>20</td>\n",
              "      <td>129</td>\n",
              "      <td>327</td>\n",
              "      <td>306</td>\n",
              "      <td>186</td>\n",
              "      <td>145</td>\n",
              "      <td>117</td>\n",
              "      <td>71</td>\n",
              "      <td>38</td>\n",
              "      <td>34</td>\n",
              "    </tr>\n",
              "    <tr>\n",
              "      <th>4</th>\n",
              "      <td>0</td>\n",
              "      <td>11</td>\n",
              "      <td>74</td>\n",
              "      <td>240</td>\n",
              "      <td>219</td>\n",
              "      <td>203</td>\n",
              "      <td>156</td>\n",
              "      <td>140</td>\n",
              "      <td>155</td>\n",
              "      <td>48</td>\n",
              "      <td>36</td>\n",
              "    </tr>\n",
              "  </tbody>\n",
              "</table>\n",
              "</div>"
            ],
            "text/plain": [
              "age             [15, 20)  [20, 25)  [25, 30)  ...  [55, 60)  [60, 65)  [65, 100)\n",
              "cluster_number                                ...                               \n",
              "0                      0         0         0  ...      3480       850        735\n",
              "1                     45       705      3965  ...         0         0          0\n",
              "2                      1        20       230  ...       165        29          4\n",
              "3                      0        20       129  ...        71        38         34\n",
              "4                      0        11        74  ...       155        48         36\n",
              "\n",
              "[5 rows x 11 columns]"
            ]
          },
          "metadata": {},
          "execution_count": 68
        }
      ]
    },
    {
      "cell_type": "code",
      "metadata": {
        "colab": {
          "base_uri": "https://localhost:8080/",
          "height": 332
        },
        "id": "iyjS6jKNmdbc",
        "outputId": "a6c5c5c6-fa9a-41bb-fcbd-c2d2c2d00e88"
      },
      "source": [
        "hist_age = pd.value_counts(qcut_age)\n",
        "hist_age\n",
        "sns.heatmap(cross_cluster_age.apply(lambda x:x/x.sum(), axis=1), cmap = 'Blues')#!!!"
      ],
      "execution_count": 69,
      "outputs": [
        {
          "output_type": "execute_result",
          "data": {
            "text/plain": [
              "<matplotlib.axes._subplots.AxesSubplot at 0x7f2d4c5ed310>"
            ]
          },
          "metadata": {},
          "execution_count": 69
        },
        {
          "output_type": "display_data",
          "data": {
            "image/png": "[encoded data removed]",
            "text/plain": [
              "<Figure size 432x288 with 2 Axes>"
            ]
          },
          "metadata": {
            "needs_background": "light"
          }
        }
      ]
    },
    {
      "cell_type": "code",
      "metadata": {
        "colab": {
          "base_uri": "https://localhost:8080/",
          "height": 357
        },
        "id": "LSGE_FxdnKSy",
        "outputId": "ac78ff65-0aa9-45a4-a635-6008a029712a"
      },
      "source": [
        "cross_cluster_job = bank_with_cluster.groupby(['cluster_number', 'job']).size().unstack().fillna(0)\n",
        "cross_cluster_job\n",
        "\n",
        "sns.heatmap(cross_cluster_job.apply(lambda x:x/x.sum(),axis=1), cmap = 'Reds')"
      ],
      "execution_count": 76,
      "outputs": [
        {
          "output_type": "execute_result",
          "data": {
            "text/plain": [
              "<matplotlib.axes._subplots.AxesSubplot at 0x7f2d4c44a550>"
            ]
          },
          "metadata": {},
          "execution_count": 76
        },
        {
          "output_type": "display_data",
          "data": {
            "image/png": "[encoded data removed]",
            "text/plain": [
              "<Figure size 432x288 with 2 Axes>"
            ]
          },
          "metadata": {
            "needs_background": "light"
          }
        }
      ]
    }
  ]
}